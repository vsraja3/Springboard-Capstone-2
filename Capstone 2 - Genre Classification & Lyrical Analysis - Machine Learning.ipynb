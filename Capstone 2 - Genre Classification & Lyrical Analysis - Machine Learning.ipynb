{
 "cells": [
  {
   "cell_type": "code",
   "execution_count": 8,
   "metadata": {
    "scrolled": false
   },
   "outputs": [],
   "source": [
    "import pandas as pd\n",
    "import numpy as np\n",
    "import seaborn as sns\n",
    "from gensim.models.tfidfmodel import TfidfModel\n",
    "import matplotlib.pyplot as plt\n",
    "from sklearn.feature_extraction.text import CountVectorizer\n",
    "from sklearn.feature_extraction.text import TfidfVectorizer\n",
    "import xgboost as xgb\n",
    "from sklearn.model_selection import train_test_split\n",
    "from sklearn import metrics\n",
    "from sklearn.model_selection import cross_val_score, cross_val_predict, GridSearchCV\n",
    "from sklearn.ensemble import RandomForestClassifier\n",
    "from sklearn.naive_bayes import MultinomialNB\n",
    "from sklearn.preprocessing import LabelEncoder\n",
    "from sklearn.metrics import classification_report\n",
    "from sklearn.metrics import confusion_matrix\n",
    "import xgboost as xgb\n",
    "from sklearn.pipeline import Pipeline\n",
    "from sklearn.feature_extraction.text import TfidfTransformer"
   ]
  },
  {
   "cell_type": "code",
   "execution_count": 2,
   "metadata": {
    "collapsed": true
   },
   "outputs": [],
   "source": [
    "#Read in dataframe from Spotify Data Extraction section containing musical attributes\n",
    "spotify_df = pd.read_csv('spotify_genre_df_cleaned.csv')"
   ]
  },
  {
   "cell_type": "markdown",
   "metadata": {},
   "source": [
    "We will now tackle applying a series of machine learning algorithms to build a genre predictor using both the lyrics and the musical attributes, and potentially thereafter an ensemble model combining the two. Since the musical attributes are largely numerical data while the lyrics are of course text data, we would need to apply different models that can be fit, transform, and predict the data types. For our musical attributes, we will attempt two popular classifers for multivariate data and nondichotomous output variables with a Random Forest model as well as a Gradient Booster in XGBoost. For lyrical prediction, we will apply a Multinomial Naive Bayes model as a predictor and first fit and transform the data into a tokenized dictionary using both the Count Vectorizer and TFIDF, similar to the topic analysis in the EDA section. We will begin by creating a list of genres to loop through as well as all of our columns so we can select the features and target variables and create matrices of them."
   ]
  },
  {
   "cell_type": "code",
   "execution_count": 9,
   "metadata": {},
   "outputs": [
    {
     "data": {
      "text/plain": [
       "Index(['track_name', 'artist', 'album', 'track_id', 'genre', 'danceability',\n",
       "       'energy', 'full_key', 'key', 'mode', 'loudness', 'speechiness',\n",
       "       'instrumentalness', 'liveness', 'valence', 'tempo', 'duration_minutes',\n",
       "       'duration_ms', 'time_signature', 'lyrics', 'lyrics_tokenized',\n",
       "       'word_count', 'lyrics_cleaned', 'named_entities', 'word_count_cleaned',\n",
       "       'word_count_unique', 'word_count_cleaned_unique', 'entity_count_unique',\n",
       "       'count_artist', 'count_track', 'count_album', 'lyrics_cleaned_str',\n",
       "       'full_key_num', 'mode_num', 'time_signature_num'],\n",
       "      dtype='object')"
      ]
     },
     "execution_count": 9,
     "metadata": {},
     "output_type": "execute_result"
    }
   ],
   "source": [
    "genres = ['Rock', 'Country', 'Hip-Hop', 'Pop', 'EDM']\n",
    "spotify_df.columns"
   ]
  },
  {
   "cell_type": "markdown",
   "metadata": {},
   "source": [
    "Upon reviewing our columns, we see that we have a few features that are non-numerical values in key, mode, and time signature. These were converted to categorical variables in the data wrangling portion for interpretability as well as improved accuracy, but now unfortunately we will need to convert them back to numerical in order to combine them into our feature matrix with all of the other numerical features. We do this below by using the Sklearn tool LabelEncoder which converts categorical data into numerical."
   ]
  },
  {
   "cell_type": "code",
   "execution_count": 4,
   "metadata": {
    "collapsed": true
   },
   "outputs": [],
   "source": [
    "label_encoder = LabelEncoder()\n",
    "spotify_df['full_key_num'] = label_encoder.fit_transform(spotify_df['full_key'])\n",
    "spotify_df['mode_num'] = label_encoder.fit_transform(spotify_df['mode'])\n",
    "spotify_df['time_signature_num'] = label_encoder.fit_transform(spotify_df['time_signature'])"
   ]
  },
  {
   "cell_type": "code",
   "execution_count": 11,
   "metadata": {
    "scrolled": false
   },
   "outputs": [
    {
     "data": {
      "text/html": [
       "<div>\n",
       "<style scoped>\n",
       "    .dataframe tbody tr th:only-of-type {\n",
       "        vertical-align: middle;\n",
       "    }\n",
       "\n",
       "    .dataframe tbody tr th {\n",
       "        vertical-align: top;\n",
       "    }\n",
       "\n",
       "    .dataframe thead th {\n",
       "        text-align: right;\n",
       "    }\n",
       "</style>\n",
       "<table border=\"1\" class=\"dataframe\">\n",
       "  <thead>\n",
       "    <tr style=\"text-align: right;\">\n",
       "      <th></th>\n",
       "      <th>full_key_num</th>\n",
       "      <th>mode_num</th>\n",
       "      <th>time_signature_num</th>\n",
       "    </tr>\n",
       "  </thead>\n",
       "  <tbody>\n",
       "    <tr>\n",
       "      <th>0</th>\n",
       "      <td>6</td>\n",
       "      <td>0</td>\n",
       "      <td>2</td>\n",
       "    </tr>\n",
       "    <tr>\n",
       "      <th>1</th>\n",
       "      <td>1</td>\n",
       "      <td>1</td>\n",
       "      <td>2</td>\n",
       "    </tr>\n",
       "    <tr>\n",
       "      <th>2</th>\n",
       "      <td>0</td>\n",
       "      <td>0</td>\n",
       "      <td>2</td>\n",
       "    </tr>\n",
       "    <tr>\n",
       "      <th>3</th>\n",
       "      <td>8</td>\n",
       "      <td>0</td>\n",
       "      <td>2</td>\n",
       "    </tr>\n",
       "    <tr>\n",
       "      <th>4</th>\n",
       "      <td>6</td>\n",
       "      <td>0</td>\n",
       "      <td>2</td>\n",
       "    </tr>\n",
       "    <tr>\n",
       "      <th>...</th>\n",
       "      <td>...</td>\n",
       "      <td>...</td>\n",
       "      <td>...</td>\n",
       "    </tr>\n",
       "    <tr>\n",
       "      <th>9995</th>\n",
       "      <td>20</td>\n",
       "      <td>0</td>\n",
       "      <td>2</td>\n",
       "    </tr>\n",
       "    <tr>\n",
       "      <th>9996</th>\n",
       "      <td>14</td>\n",
       "      <td>0</td>\n",
       "      <td>2</td>\n",
       "    </tr>\n",
       "    <tr>\n",
       "      <th>9997</th>\n",
       "      <td>0</td>\n",
       "      <td>0</td>\n",
       "      <td>2</td>\n",
       "    </tr>\n",
       "    <tr>\n",
       "      <th>9998</th>\n",
       "      <td>20</td>\n",
       "      <td>0</td>\n",
       "      <td>2</td>\n",
       "    </tr>\n",
       "    <tr>\n",
       "      <th>9999</th>\n",
       "      <td>20</td>\n",
       "      <td>0</td>\n",
       "      <td>2</td>\n",
       "    </tr>\n",
       "  </tbody>\n",
       "</table>\n",
       "<p>10000 rows × 3 columns</p>\n",
       "</div>"
      ],
      "text/plain": [
       "      full_key_num  mode_num  time_signature_num\n",
       "0                6         0                   2\n",
       "1                1         1                   2\n",
       "2                0         0                   2\n",
       "3                8         0                   2\n",
       "4                6         0                   2\n",
       "...            ...       ...                 ...\n",
       "9995            20         0                   2\n",
       "9996            14         0                   2\n",
       "9997             0         0                   2\n",
       "9998            20         0                   2\n",
       "9999            20         0                   2\n",
       "\n",
       "[10000 rows x 3 columns]"
      ]
     },
     "execution_count": 11,
     "metadata": {},
     "output_type": "execute_result"
    }
   ],
   "source": [
    "spotify_df[numerical_variables[11:]]"
   ]
  },
  {
   "cell_type": "markdown",
   "metadata": {},
   "source": [
    "After successfully converting all of our categorical data, we can now generate our feature matrices. After that is done, we can use Sklearn's train_test_split function to divide up our dataset into training and testing data. The testing data holdout can be varied depending on the size of your dataset and the variance, but based on having a fairly large data size we will use the common split of 80/20 train/test."
   ]
  },
  {
   "cell_type": "code",
   "execution_count": 10,
   "metadata": {},
   "outputs": [],
   "source": [
    "numerical_variables = ['danceability', 'energy', 'loudness', 'speechiness', 'instrumentalness', 'liveness', \n",
    "                       'valence', 'tempo', 'duration_minutes', 'word_count', 'word_count_unique', \n",
    "                       'full_key_num', 'mode_num', 'time_signature_num']\n",
    "\n",
    "#Feature Selection - Create Feature and Target Matrix\n",
    "features = spotify_df[numerical_variables]\n",
    "\n",
    "target = spotify_df['genre']\n",
    "\n",
    "#Reset train test split X and Y arrays with all 16 variables\n",
    "X_train, X_test, y_train, y_test = train_test_split(features , target, test_size = 0.2, random_state = 0)"
   ]
  },
  {
   "cell_type": "code",
   "execution_count": 12,
   "metadata": {},
   "outputs": [
    {
     "data": {
      "text/html": [
       "<div>\n",
       "<style scoped>\n",
       "    .dataframe tbody tr th:only-of-type {\n",
       "        vertical-align: middle;\n",
       "    }\n",
       "\n",
       "    .dataframe tbody tr th {\n",
       "        vertical-align: top;\n",
       "    }\n",
       "\n",
       "    .dataframe thead th {\n",
       "        text-align: right;\n",
       "    }\n",
       "</style>\n",
       "<table border=\"1\" class=\"dataframe\">\n",
       "  <thead>\n",
       "    <tr style=\"text-align: right;\">\n",
       "      <th></th>\n",
       "      <th>danceability</th>\n",
       "      <th>energy</th>\n",
       "      <th>loudness</th>\n",
       "      <th>speechiness</th>\n",
       "      <th>instrumentalness</th>\n",
       "      <th>liveness</th>\n",
       "      <th>valence</th>\n",
       "      <th>tempo</th>\n",
       "      <th>duration_minutes</th>\n",
       "      <th>word_count</th>\n",
       "      <th>word_count_unique</th>\n",
       "      <th>full_key_num</th>\n",
       "      <th>mode_num</th>\n",
       "      <th>time_signature_num</th>\n",
       "    </tr>\n",
       "  </thead>\n",
       "  <tbody>\n",
       "    <tr>\n",
       "      <th>7389</th>\n",
       "      <td>0.797</td>\n",
       "      <td>0.375</td>\n",
       "      <td>-7.552</td>\n",
       "      <td>0.1460</td>\n",
       "      <td>0.000000</td>\n",
       "      <td>0.0767</td>\n",
       "      <td>0.171</td>\n",
       "      <td>139.999</td>\n",
       "      <td>3.200750</td>\n",
       "      <td>737.0</td>\n",
       "      <td>206.0</td>\n",
       "      <td>21</td>\n",
       "      <td>1</td>\n",
       "      <td>2</td>\n",
       "    </tr>\n",
       "    <tr>\n",
       "      <th>9275</th>\n",
       "      <td>0.600</td>\n",
       "      <td>0.496</td>\n",
       "      <td>-9.594</td>\n",
       "      <td>0.0247</td>\n",
       "      <td>0.001600</td>\n",
       "      <td>0.2560</td>\n",
       "      <td>0.516</td>\n",
       "      <td>100.511</td>\n",
       "      <td>3.872883</td>\n",
       "      <td>210.0</td>\n",
       "      <td>86.0</td>\n",
       "      <td>16</td>\n",
       "      <td>0</td>\n",
       "      <td>2</td>\n",
       "    </tr>\n",
       "    <tr>\n",
       "      <th>2995</th>\n",
       "      <td>0.393</td>\n",
       "      <td>0.805</td>\n",
       "      <td>-2.520</td>\n",
       "      <td>0.0471</td>\n",
       "      <td>0.000137</td>\n",
       "      <td>0.0746</td>\n",
       "      <td>0.325</td>\n",
       "      <td>74.931</td>\n",
       "      <td>3.286667</td>\n",
       "      <td>153.0</td>\n",
       "      <td>51.0</td>\n",
       "      <td>8</td>\n",
       "      <td>0</td>\n",
       "      <td>2</td>\n",
       "    </tr>\n",
       "    <tr>\n",
       "      <th>5316</th>\n",
       "      <td>0.570</td>\n",
       "      <td>0.664</td>\n",
       "      <td>-4.718</td>\n",
       "      <td>0.0322</td>\n",
       "      <td>0.000012</td>\n",
       "      <td>0.0719</td>\n",
       "      <td>0.487</td>\n",
       "      <td>162.084</td>\n",
       "      <td>3.558667</td>\n",
       "      <td>459.0</td>\n",
       "      <td>110.0</td>\n",
       "      <td>7</td>\n",
       "      <td>1</td>\n",
       "      <td>2</td>\n",
       "    </tr>\n",
       "    <tr>\n",
       "      <th>356</th>\n",
       "      <td>0.658</td>\n",
       "      <td>0.814</td>\n",
       "      <td>-4.631</td>\n",
       "      <td>0.0558</td>\n",
       "      <td>0.006760</td>\n",
       "      <td>0.2160</td>\n",
       "      <td>0.690</td>\n",
       "      <td>108.016</td>\n",
       "      <td>3.060033</td>\n",
       "      <td>266.0</td>\n",
       "      <td>64.0</td>\n",
       "      <td>6</td>\n",
       "      <td>0</td>\n",
       "      <td>2</td>\n",
       "    </tr>\n",
       "    <tr>\n",
       "      <th>...</th>\n",
       "      <td>...</td>\n",
       "      <td>...</td>\n",
       "      <td>...</td>\n",
       "      <td>...</td>\n",
       "      <td>...</td>\n",
       "      <td>...</td>\n",
       "      <td>...</td>\n",
       "      <td>...</td>\n",
       "      <td>...</td>\n",
       "      <td>...</td>\n",
       "      <td>...</td>\n",
       "      <td>...</td>\n",
       "      <td>...</td>\n",
       "      <td>...</td>\n",
       "    </tr>\n",
       "    <tr>\n",
       "      <th>9225</th>\n",
       "      <td>0.513</td>\n",
       "      <td>0.488</td>\n",
       "      <td>-11.603</td>\n",
       "      <td>0.0321</td>\n",
       "      <td>0.006110</td>\n",
       "      <td>0.1200</td>\n",
       "      <td>0.947</td>\n",
       "      <td>169.601</td>\n",
       "      <td>4.282883</td>\n",
       "      <td>0.0</td>\n",
       "      <td>0.0</td>\n",
       "      <td>16</td>\n",
       "      <td>0</td>\n",
       "      <td>2</td>\n",
       "    </tr>\n",
       "    <tr>\n",
       "      <th>4859</th>\n",
       "      <td>0.634</td>\n",
       "      <td>0.153</td>\n",
       "      <td>-14.409</td>\n",
       "      <td>0.0622</td>\n",
       "      <td>0.000000</td>\n",
       "      <td>0.1340</td>\n",
       "      <td>0.318</td>\n",
       "      <td>77.770</td>\n",
       "      <td>3.692300</td>\n",
       "      <td>324.0</td>\n",
       "      <td>114.0</td>\n",
       "      <td>14</td>\n",
       "      <td>0</td>\n",
       "      <td>2</td>\n",
       "    </tr>\n",
       "    <tr>\n",
       "      <th>3264</th>\n",
       "      <td>0.474</td>\n",
       "      <td>0.749</td>\n",
       "      <td>-5.113</td>\n",
       "      <td>0.0363</td>\n",
       "      <td>0.000074</td>\n",
       "      <td>0.0642</td>\n",
       "      <td>0.100</td>\n",
       "      <td>121.969</td>\n",
       "      <td>5.904767</td>\n",
       "      <td>206.0</td>\n",
       "      <td>86.0</td>\n",
       "      <td>5</td>\n",
       "      <td>1</td>\n",
       "      <td>2</td>\n",
       "    </tr>\n",
       "    <tr>\n",
       "      <th>9845</th>\n",
       "      <td>0.573</td>\n",
       "      <td>0.847</td>\n",
       "      <td>-7.251</td>\n",
       "      <td>0.0341</td>\n",
       "      <td>0.000082</td>\n",
       "      <td>0.3830</td>\n",
       "      <td>0.795</td>\n",
       "      <td>153.971</td>\n",
       "      <td>3.251783</td>\n",
       "      <td>186.0</td>\n",
       "      <td>80.0</td>\n",
       "      <td>18</td>\n",
       "      <td>0</td>\n",
       "      <td>2</td>\n",
       "    </tr>\n",
       "    <tr>\n",
       "      <th>2732</th>\n",
       "      <td>0.781</td>\n",
       "      <td>0.854</td>\n",
       "      <td>-7.411</td>\n",
       "      <td>0.3110</td>\n",
       "      <td>0.049300</td>\n",
       "      <td>0.1500</td>\n",
       "      <td>0.493</td>\n",
       "      <td>100.043</td>\n",
       "      <td>3.039783</td>\n",
       "      <td>0.0</td>\n",
       "      <td>0.0</td>\n",
       "      <td>3</td>\n",
       "      <td>1</td>\n",
       "      <td>2</td>\n",
       "    </tr>\n",
       "  </tbody>\n",
       "</table>\n",
       "<p>8000 rows × 14 columns</p>\n",
       "</div>"
      ],
      "text/plain": [
       "      danceability  energy  loudness  speechiness  instrumentalness  liveness  \\\n",
       "7389         0.797   0.375    -7.552       0.1460          0.000000    0.0767   \n",
       "9275         0.600   0.496    -9.594       0.0247          0.001600    0.2560   \n",
       "2995         0.393   0.805    -2.520       0.0471          0.000137    0.0746   \n",
       "5316         0.570   0.664    -4.718       0.0322          0.000012    0.0719   \n",
       "356          0.658   0.814    -4.631       0.0558          0.006760    0.2160   \n",
       "...            ...     ...       ...          ...               ...       ...   \n",
       "9225         0.513   0.488   -11.603       0.0321          0.006110    0.1200   \n",
       "4859         0.634   0.153   -14.409       0.0622          0.000000    0.1340   \n",
       "3264         0.474   0.749    -5.113       0.0363          0.000074    0.0642   \n",
       "9845         0.573   0.847    -7.251       0.0341          0.000082    0.3830   \n",
       "2732         0.781   0.854    -7.411       0.3110          0.049300    0.1500   \n",
       "\n",
       "      valence    tempo  duration_minutes  word_count  word_count_unique  \\\n",
       "7389    0.171  139.999          3.200750       737.0              206.0   \n",
       "9275    0.516  100.511          3.872883       210.0               86.0   \n",
       "2995    0.325   74.931          3.286667       153.0               51.0   \n",
       "5316    0.487  162.084          3.558667       459.0              110.0   \n",
       "356     0.690  108.016          3.060033       266.0               64.0   \n",
       "...       ...      ...               ...         ...                ...   \n",
       "9225    0.947  169.601          4.282883         0.0                0.0   \n",
       "4859    0.318   77.770          3.692300       324.0              114.0   \n",
       "3264    0.100  121.969          5.904767       206.0               86.0   \n",
       "9845    0.795  153.971          3.251783       186.0               80.0   \n",
       "2732    0.493  100.043          3.039783         0.0                0.0   \n",
       "\n",
       "      full_key_num  mode_num  time_signature_num  \n",
       "7389            21         1                   2  \n",
       "9275            16         0                   2  \n",
       "2995             8         0                   2  \n",
       "5316             7         1                   2  \n",
       "356              6         0                   2  \n",
       "...            ...       ...                 ...  \n",
       "9225            16         0                   2  \n",
       "4859            14         0                   2  \n",
       "3264             5         1                   2  \n",
       "9845            18         0                   2  \n",
       "2732             3         1                   2  \n",
       "\n",
       "[8000 rows x 14 columns]"
      ]
     },
     "execution_count": 12,
     "metadata": {},
     "output_type": "execute_result"
    }
   ],
   "source": [
    "X_train"
   ]
  },
  {
   "cell_type": "markdown",
   "metadata": {},
   "source": [
    "As you can see upon previewing the training feature dataset, we have a split of 80/20 with a dataframe containing 8000 of our 10000 tracks data. We will now instantiate our two classification models in the Random Forest and Gradient Boosting Tree. We will start with the Random Forest and first apply a grid search in order to find the optimal hyperparameters to instatiate our Random Forest Classifier with."
   ]
  },
  {
   "cell_type": "code",
   "execution_count": 13,
   "metadata": {
    "collapsed": true
   },
   "outputs": [],
   "source": [
    "#Random Forest Classifier\n",
    "param_grid = {'max_depth': range(5, 50, 5), 'n_estimators': range(1, 20)} \n",
    "rand_forest_grid = RandomForestClassifier(random_state=0)\n",
    "rf_gridsearch = GridSearchCV(estimator=rand_forest_grid, param_grid=param_grid, cv=5)\n",
    "rf_gridsearch.fit(X_train, y_train)\n",
    "\n",
    "\n",
    "y_pred = rf_gridsearch.predict(X_test)"
   ]
  },
  {
   "cell_type": "code",
   "execution_count": 14,
   "metadata": {},
   "outputs": [
    {
     "data": {
      "text/plain": [
       "(0.723,\n",
       " RandomForestClassifier(bootstrap=True, class_weight=None, criterion='gini',\n",
       "             max_depth=15, max_features='auto', max_leaf_nodes=None,\n",
       "             min_impurity_decrease=0.0, min_impurity_split=None,\n",
       "             min_samples_leaf=1, min_samples_split=2,\n",
       "             min_weight_fraction_leaf=0.0, n_estimators=18, n_jobs=1,\n",
       "             oob_score=False, random_state=0, verbose=0, warm_start=False),\n",
       " 0.7155)"
      ]
     },
     "execution_count": 14,
     "metadata": {},
     "output_type": "execute_result"
    }
   ],
   "source": [
    "rf_gridsearch.best_score_, rf_gridsearch.best_estimator_, rf_gridsearch.score(X_test, y_test)"
   ]
  },
  {
   "cell_type": "markdown",
   "metadata": {},
   "source": [
    "Running through the grid search and fitting it to our training data helped to determine that the optimal parameters on our grid, which included the hyperparameters 'max_depth' and 'n_estimators' is 15 and 18 respectively. We also discover that the best accuracy score yielded when running through the grid search is .7155, indicating a 71.55% success in classifying the genre of the 2000 songs in the test data correctly. We will now apply these hyperparameters to our random forest model and predict test data labels so we can genrate a classification report as well as a confusion matrix."
   ]
  },
  {
   "cell_type": "code",
   "execution_count": 15,
   "metadata": {
    "scrolled": true
   },
   "outputs": [
    {
     "name": "stdout",
     "output_type": "stream",
     "text": [
      "                  precision    recall  f1-score   support\n",
      "\n",
      "         Country       0.67      0.70      0.68       412\n",
      "Electronic/Dance       0.81      0.76      0.78       398\n",
      "         Hip-Hop       0.85      0.88      0.87       398\n",
      "             Pop       0.64      0.62      0.63       419\n",
      "            Rock       0.62      0.62      0.62       373\n",
      "\n",
      "     avg / total       0.72      0.72      0.72      2000\n",
      "\n"
     ]
    }
   ],
   "source": [
    "rand_forest = RandomForestClassifier(random_state=0, max_depth=15, n_estimators=18)\n",
    "rand_forest.fit(X_train, y_train)\n",
    "y_pred = rand_forest.predict(X_test)\n",
    "print(classification_report(y_test, y_pred))"
   ]
  },
  {
   "cell_type": "code",
   "execution_count": 40,
   "metadata": {},
   "outputs": [
    {
     "data": {
      "image/png": "[encoded data removed]",
      "text/plain": [
       "<Figure size 648x648 with 2 Axes>"
      ]
     },
     "metadata": {},
     "output_type": "display_data"
    }
   ],
   "source": [
    "mat1 = confusion_matrix(y_test, y_pred)\n",
    "sns.heatmap(mat1.T, square=True, annot=True, fmt='d', cbar=True, xticklabels=genres, yticklabels=genres)\n",
    "plt.rcParams['figure.figsize'] = (9, 9)\n",
    "plt.xlabel('Actual Genre')\n",
    "plt.ylabel('Predicted Genre')\n",
    "plt.show()"
   ]
  },
  {
   "cell_type": "markdown",
   "metadata": {},
   "source": [
    "Based on the classification report, it appears that the Hip-Hop and EDM tracks had a greater success rate of being classified according to their existing labels through our random forest model. Likewise, the tracks within Rock, Pop, and Country had lower true positive rates closer to 60%. Thinking back to our exploratory data analysis that reviewed the distributions of features across genres, this result is understandable considering these 3 genres had a lot more similarities in their distribution values across most numerical features, whereas the Hip-Hop and EDM genres had some distinguishing features such as high instrumentallness amongst our EDM data and high speechiness and word counts amongst our Hip-Hop data.\n",
    "\n",
    "Taking a look at the confusion matrix, we can gain a better idea as to what genres were classified more successfully than others and amongst the songs misclassified, what they were misclassified as. It appears the highest count of incorrectly classified tracks were songs that were actually Pop (as labeled by Spotify based on artist data) but predicted to be classified as Rock through the Random Forest model. Other notable misclassifications include Rock songs classified as Pop or EDM as well as EDM songs classified as Rock. It is curious that Rock and EDM tracks were misclassified as one another more often than others, but it is potentially possible due to the similar high levels of energy and loudness. \n",
    "\n",
    "While observing and attempting to understand the confusion matrix, the question arises as to what features in our dataset are having a high impact on the classification algorithm. Answering this question may help us in turn answer why certain genres were incorrectly classified as one another. Fortunately, the Random Forest classifier model has a built in method that yields the highest ranked features as well as a numerical measure of their importance. We can use this to create a simple bar plot of feature importance to provide us insights to answer some questions."
   ]
  },
  {
   "cell_type": "code",
   "execution_count": 18,
   "metadata": {},
   "outputs": [
    {
     "data": {
      "image/png": "[encoded data removed]",
      "text/plain": [
       "<Figure size 576x576 with 1 Axes>"
      ]
     },
     "metadata": {},
     "output_type": "display_data"
    }
   ],
   "source": [
    "df_feature_importance = pd.DataFrame({'feature': X_train.columns,\n",
    "                       'feature_importance': rand_forest.feature_importances_}) \\\n",
    "           .sort_values('feature_importance', ascending = False) \\\n",
    "           .reset_index(drop = True)\n",
    "        \n",
    "sns.barplot(x = 'feature_importance', y = 'feature', data = df_feature_importance, orient = 'h', color = 'royalblue').set_title('Sklearn Random Forest Feature Importance', fontsize = 15)\n",
    "        \n",
    "plt.show()"
   ]
  },
  {
   "cell_type": "markdown",
   "metadata": {},
   "source": [
    "Plotting the feature importance helps us greatly in revealing the features that have the most significant impact in the genre prediction model. We can see that speechiness is the top ranked feature with word count just behind it, which asserts our hypothesis that Hip-Hop is the most accurately classified genre as a result of the majority of songs in our dataset having distinguishing features in higher values of speechiness and word count. Likewise, danceability and instrumentallness are both amongst the top 5 features, which supports the higher accuracy amongst EDM songs where those two features are distinguishably higher. We also notice that the categorical variables (key, mode, and time signature) that were translated into numerical as all at the bottom of the chart. This was predicted based on the overall randomness in the countplot distribution for these features we plotted in the EDA report.\n",
    "\n",
    "Overall, the random forest model proved to be fairly strong and provided us with several interesting insights. We will move on to test out a gradient boosting model using XGBoost, a popular tool that has often regarded highly in performance for classification. We will similarly apply a gridsearch to tune our hyperparameters and then fit that model to our testing data to generate a classification report and confusion matrix."
   ]
  },
  {
   "cell_type": "code",
   "execution_count": 19,
   "metadata": {
    "collapsed": true
   },
   "outputs": [],
   "source": [
    "%%capture\n",
    "param_grid_xg = {'booster': ['gblinear', 'gbtree'], 'n_estimators': range(1, 20)} \n",
    "xg_grid = xgb.XGBClassifier()\n",
    "xg_gridsearch = GridSearchCV(estimator= xg_grid, param_grid= param_grid_xg, cv=5)\n",
    "xg_gridsearch.fit(X_train, y_train)"
   ]
  },
  {
   "cell_type": "code",
   "execution_count": 20,
   "metadata": {},
   "outputs": [
    {
     "data": {
      "text/plain": [
       "(0.65675, XGBClassifier(base_score=0.5, booster='gbtree', colsample_bylevel=1,\n",
       "        colsample_bynode=1, colsample_bytree=1, gamma=0, learning_rate=0.1,\n",
       "        max_delta_step=0, max_depth=3, min_child_weight=1, missing=None,\n",
       "        n_estimators=19, n_jobs=1, nthread=None, objective='multi:softprob',\n",
       "        random_state=0, reg_alpha=0, reg_lambda=1, scale_pos_weight=1,\n",
       "        seed=None, silent=None, subsample=1, verbosity=1))"
      ]
     },
     "execution_count": 20,
     "metadata": {},
     "output_type": "execute_result"
    }
   ],
   "source": [
    "xg_gridsearch.best_score_, xg_gridsearch.best_estimator_"
   ]
  },
  {
   "cell_type": "code",
   "execution_count": 21,
   "metadata": {},
   "outputs": [
    {
     "name": "stdout",
     "output_type": "stream",
     "text": [
      "                  precision    recall  f1-score   support\n",
      "\n",
      "         Country       0.58      0.69      0.63       412\n",
      "Electronic/Dance       0.77      0.71      0.74       398\n",
      "         Hip-Hop       0.76      0.83      0.79       398\n",
      "             Pop       0.56      0.47      0.51       419\n",
      "            Rock       0.58      0.55      0.56       373\n",
      "\n",
      "     avg / total       0.65      0.65      0.65      2000\n",
      "\n",
      "None\n"
     ]
    },
    {
     "name": "stderr",
     "output_type": "stream",
     "text": [
      "/Users/varunraja/anaconda3/lib/python3.6/site-packages/sklearn/preprocessing/label.py:151: DeprecationWarning: The truth value of an empty array is ambiguous. Returning False, but in future this will result in an error. Use `array.size > 0` to check that an array is not empty.\n",
      "  if diff:\n"
     ]
    }
   ],
   "source": [
    "xgb_grid = xgb.XGBClassifier(random_state=0, max_depth=3, n_estimators=19)\n",
    "xgb_grid.fit(X_train, y_train)\n",
    "y_pred2 = xgb_grid.predict(X_test)\n",
    "print(print(classification_report(y_test, y_pred2)))"
   ]
  },
  {
   "cell_type": "code",
   "execution_count": 39,
   "metadata": {},
   "outputs": [
    {
     "data": {
      "image/png": "[encoded data removed]",
      "text/plain": [
       "<Figure size 648x648 with 2 Axes>"
      ]
     },
     "metadata": {},
     "output_type": "display_data"
    }
   ],
   "source": [
    "mat2 = confusion_matrix(y_test, y_pred2)\n",
    "sns.heatmap(mat2.T, square=True, annot=True, fmt='d', cbar=True, xticklabels=genres, yticklabels=genres)\n",
    "plt.rcParams['figure.figsize'] = (9, 9)\n",
    "plt.xlabel('Actual Genre')\n",
    "plt.ylabel('Predicted Genre')\n",
    "plt.show()"
   ]
  },
  {
   "cell_type": "markdown",
   "metadata": {},
   "source": [
    "After running the models and generating our reports just like we did on the Random Forest, we see that the overall score of the model is slightly lower at around 65% correct classification on the test data. Moreover, the confusion matrix and classification report yield fairly similar misclassification results between the predicted and actual genres, with Pop, EDM, and Rock being among the most conflated. Given the general success of gradient boosting and XGBoost for classification modeling, it's possible we need to dive a bit further into the hyperparameter tuning and cross validation to potentially yield better results. We will leave this as an avenue to explore for next steps.\n",
    "\n",
    "With the two models build around our numerical features, we will now proceed to apply our lyrical text data to two different vectorizers and use Multinomial Naive Bayes to classify the genres based solely on lyrical data. We will begin by splitting our data into a training and testing set once again, generating a piperline to transform data using the count vectorizer and then fitting it to a classifier."
   ]
  },
  {
   "cell_type": "code",
   "execution_count": 26,
   "metadata": {},
   "outputs": [
    {
     "data": {
      "text/plain": [
       "0.5825"
      ]
     },
     "execution_count": 26,
     "metadata": {},
     "output_type": "execute_result"
    }
   ],
   "source": [
    "#Reset train test split X and Y arrays with all 16 variables\n",
    "\n",
    "lyrics = spotify_df.lyrics_cleaned\n",
    "\n",
    "X_train, X_test, y_train, y_test = train_test_split(lyrics, target, test_size = 0.2, random_state = 0)\n",
    "\n",
    "# define our model\n",
    "genre_clf = Pipeline(\n",
    "    [('vect', CountVectorizer()),\n",
    "     ('clf', MultinomialNB(alpha=0.1))])\n",
    "\n",
    "# train our model on training data\n",
    "genre_clf.fit(X_train, y_train)  \n",
    "\n",
    "# score our model on testing data\n",
    "y_pred3 = genre_clf.predict(X_test)\n",
    "np.mean(y_pred3 == y_test)"
   ]
  },
  {
   "cell_type": "code",
   "execution_count": 38,
   "metadata": {},
   "outputs": [
    {
     "data": {
      "image/png": "[encoded data removed]",
      "text/plain": [
       "<Figure size 648x648 with 2 Axes>"
      ]
     },
     "metadata": {},
     "output_type": "display_data"
    }
   ],
   "source": [
    "mat3 = confusion_matrix(y_test, y_pred3)\n",
    "sns.heatmap(mat3.T, square=True, annot=True, fmt='d', cbar=True, xticklabels=genres, yticklabels=genres)\n",
    "plt.rcParams['figure.figsize'] = (9, 9)\n",
    "plt.xlabel('Actual Genre')\n",
    "plt.ylabel('Predicted Genre')\n",
    "plt.show()"
   ]
  },
  {
   "cell_type": "markdown",
   "metadata": {},
   "source": [
    "Reviewing the results, we see a much lower accuracy score with about 58% of the test data being classified accurately. However, considering we are only using one input variable in lyrics rather than multiple numerical metrics, this is still a fairly strong model given those limitations. The confusion report once again helps us gain insight into which genres were incorrectly classified as which. Taking a quick glance at it, we notice some similar high numbers between Pop, EDM, and Rock. The true Rock tracks do surprisingly have the highest success rate with 349 of 412 being accurately classified. Amongst the highest genres misclassified were Country, Pop, and EDM against one another. Recalling the word clouds of the 5 genres, there did appear to be considerable overlap between those three genres, which helps explain these misclassifications.\n",
    "\n",
    "Like we did when charting our top 10 word count across genres, we will now attempt to fit a Multinomial Naive Bayes model to our lyrics transformed using a TFIDF vectorizer to see if there is any improvement by reducing the weight of common words across the lyrics in each genre."
   ]
  },
  {
   "cell_type": "code",
   "execution_count": 28,
   "metadata": {},
   "outputs": [
    {
     "data": {
      "text/plain": [
       "0.5765"
      ]
     },
     "execution_count": 28,
     "metadata": {},
     "output_type": "execute_result"
    }
   ],
   "source": [
    "# define our model\n",
    "genre_clf = Pipeline(\n",
    "    [('vect', TfidfVectorizer()),\n",
    "     ('clf', MultinomialNB(alpha=0.1))])\n",
    "\n",
    "# train our model on training data\n",
    "genre_clf.fit(X_train, y_train)  \n",
    "\n",
    "# score our model on testing data\n",
    "y_pred4 = genre_clf.predict(X_test)\n",
    "np.mean(y_pred4 == y_test)"
   ]
  },
  {
   "cell_type": "code",
   "execution_count": 37,
   "metadata": {},
   "outputs": [
    {
     "data": {
      "image/png": "[encoded data removed]",
      "text/plain": [
       "<Figure size 648x648 with 2 Axes>"
      ]
     },
     "metadata": {},
     "output_type": "display_data"
    }
   ],
   "source": [
    "mat4 = confusion_matrix(y_test, y_pred4)\n",
    "sns.heatmap(mat4.T, square=True, annot=True, fmt='d', cbar=True, xticklabels=genres, yticklabels=genres)\n",
    "plt.rcParams['figure.figsize'] = (9, 9)\n",
    "plt.xlabel('Actual Genre')\n",
    "plt.ylabel('Predicted Genre')\n",
    "plt.show()"
   ]
  },
  {
   "cell_type": "markdown",
   "metadata": {},
   "source": [
    "The results of the TFIDF classification are largely similar to the Count Vectorizer with a slightly lower but nearly identical percentage of 57.65 correctly classified, with the confusion matrix reflecting nothing particularly new or insightful. This suggests that there isn't a strong benefit in weighting words that appear more frequently across lyrics less and boosting unique words.\n",
    "\n",
    "After running these 4 models, we've generated a number of relatively accurate predictors using our acquired dataset. While both the lyric and numerical predictors served to be fairly adequate on their own, another avenue that could be explored is to create an ensemble model which combines the two by first predicting genre likelihood through lyrics and then using that to boost the predictability of the Random Forest or XGBoost models. This is something we will consider are a potential avenue for next steps in a future project."
   ]
  }
 ],
 "metadata": {
  "kernelspec": {
   "display_name": "Python 3",
   "language": "python",
   "name": "python3"
  },
  "language_info": {
   "codemirror_mode": {
    "name": "ipython",
    "version": 3
   },
   "file_extension": ".py",
   "mimetype": "text/x-python",
   "name": "python",
   "nbconvert_exporter": "python",
   "pygments_lexer": "ipython3",
   "version": "3.6.10"
  }
 },
 "nbformat": 4,
 "nbformat_minor": 2
}
